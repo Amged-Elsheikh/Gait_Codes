{
 "cells": [
  {
   "cell_type": "code",
   "execution_count": 1,
   "metadata": {},
   "outputs": [],
   "source": [
    "import pandas as pd\n",
    "import os"
   ]
  },
  {
   "cell_type": "code",
   "execution_count": 2,
   "metadata": {},
   "outputs": [],
   "source": [
    "def get_IO_dir(subject=None, motion_type=\"dynamic\"):\n",
    "    \"\"\"\n",
    "    Parameters\n",
    "    ----------\n",
    "    subject : string, optional\n",
    "        Subject number you need to convert it's motion data to trc in \"XX\" string format.\n",
    "        If None, user have to insert subject number manually. The default is None.\n",
    "    motion_type : TYPE, optional\n",
    "        DESCRIPTION. The default is \"dynamic\".\n",
    "\n",
    "    Returns\n",
    "    -------\n",
    "    Inputs : TYPE\n",
    "        DESCRIPTION.\n",
    "    Outputs : TYPE\n",
    "        DESCRIPTION.\n",
    "    \"\"\"\n",
    "    \n",
    "    if subject==None:\n",
    "        subject = input(\"insert subject number: \")\n",
    "        \n",
    "    # Create motion Setting File\n",
    "    date = subject_details[f\"S{subject}\"]\n",
    "    if motion_type == \"static\":\n",
    "        input_path =  f\"../Data/S{subject}/{date}/Statics/\" # Inputs folder\n",
    "        output_path = f\"../OpenSim/S{subject}/{date}/Statics/\"  # Outputs folder\n",
    "\n",
    "    elif motion_type == \"dynamic\":\n",
    "        input_path = f\"../Data/S{subject}/{date}/Dynamics/Motion_Data/\"  # Inputs folder\n",
    "        output_path = f\"../OpenSim/S{subject}/{date}/Dynamics/Motion_Data/\"  # Outputs folder\n",
    "    \n",
    "    if motion_type==\"static\":\n",
    "        input_path = setting.iloc[2,1] # Inputs folder\n",
    "        output_path = setting.iloc[3,1] # Outputs folder\n",
    "    elif motion_type==\"dynamic\":\n",
    "        input_path = setting.iloc[0,1] # Inputs folder\n",
    "        output_path = setting.iloc[1,1] # Outputs folder\n",
    "        \n",
    "    print(\"The print will only shows files names, not full directory\")\n",
    "    Inputs = os.listdir(input_path)\n",
    "    print(\"Input files: \", Inputs)\n",
    "    Outputs = list(map(lambda x:f\"{x}\".replace('csv','trc'), Inputs))\n",
    "    print(\"Output files: \", Outputs)\n",
    "    \n",
    "    # Get inputs and outputs full directories\n",
    "    Inputs = list(map(lambda file: input_path+file, Inputs))\n",
    "    Outputs = list(map(lambda file: output_path+file, Outputs))\n",
    "    return Inputs, Outputs"
   ]
  },
  {
   "cell_type": "markdown",
   "metadata": {},
   "source": [
    "### Getting the label for converting the data"
   ]
  },
  {
   "cell_type": "code",
   "execution_count": 3,
   "metadata": {},
   "outputs": [],
   "source": [
    "### Motion becomes Input\n",
    "def get_markers_labels(Input, Markers_Set_Name=\"Amged:\"):\n",
    "    \n",
    "    Label = pd.read_csv(Input, header=2, nrows = 0).columns.values # Getting Markers labels\n",
    "    Markers_Label = [] #Define a list to receive markers\n",
    "    Markers_Set_Name = Markers_Set_Name\n",
    "\n",
    "    for i in range(0, Markers_number):\n",
    "        Temp = Label[2+3*i] \n",
    "        Temp_1 = Temp.replace(Markers_Set_Name, \"\") #Need to remove the Marker set name\n",
    "        Markers_Label.append(Temp_1)\n",
    "#     print(\"Number of labels: \",len(Markers_Label))\n",
    "    return Markers_Label"
   ]
  },
  {
   "cell_type": "markdown",
   "metadata": {},
   "source": [
    "### Convert the data and save to .trc file"
   ]
  },
  {
   "cell_type": "code",
   "execution_count": 4,
   "metadata": {},
   "outputs": [],
   "source": [
    "def convert_data(Input, Output):\n",
    "    \"\"\"\n",
    "    Input & Output are pathes\n",
    "    \"\"\"\n",
    "    Markers = pd.read_csv(Input, header=5, usecols = [*range(0, 3*Markers_number+2)])\n",
    "    if os.path.exists(Output): # If we already have the file, it will be removed \n",
    "        os.remove(Output)\n",
    "    Markers.to_csv(Output,  sep='\\t', index=False, header = False)\n",
    "    num_frames = len(Markers.iloc[:,0])\n",
    "    return num_frames"
   ]
  },
  {
   "cell_type": "markdown",
   "metadata": {},
   "source": [
    "### trc format need special format"
   ]
  },
  {
   "cell_type": "code",
   "execution_count": 5,
   "metadata": {},
   "outputs": [],
   "source": [
    "def process_trc(Output, Markers_Label, num_frames, Markers_number=39):\n",
    "    New_label_Coor = '\\t'\n",
    "    New_label_Mar = 'Frame#\\tTime'\n",
    "\n",
    "    for i in range(0, Markers_number):\n",
    "        New_label_Coor = f\"{New_label_Coor}\\tX{str(i+1)}\\tY{str(i+1)}\\tZ{str(i+1)}\"\n",
    "    for i in range(0,Markers_number-1):\n",
    "        New_label_Mar = f\"{New_label_Mar}\\t{Markers_Label[i]}\\t\\t\"\n",
    "    New_label_Mar = f\"{New_label_Mar}\\t{Markers_Label[Markers_number-1]}\\n\"\n",
    "    \n",
    "    Contents = 'PathFileType\\t4\\t' + '(X,Y,Z)\\t' + Output + '\\n' \\\n",
    "            + 'DataRate\\tCameraRate\\tNumFrames\\tNumMarkers\\tUnits\\tOrigDataRate\\tOrigDataStartFrame\\tOrigNumFrames' + '\\n' \\\n",
    "            + f'100\\t100\\t{num_frames}\\t{Markers_number}\\tm\\t100\\t1\\t{num_frames}\\n'\n",
    "    \n",
    "    with open(Output, \"r+\") as f:\n",
    "        old = f.read() # read everything in the file\n",
    "        f.seek(0) # rewind\n",
    "        f.write(Contents + New_label_Mar + New_label_Coor + '\\n\\n' + old)"
   ]
  },
  {
   "cell_type": "code",
   "execution_count": 6,
   "metadata": {},
   "outputs": [],
   "source": [
    "def csv2trc(subject=None):\n",
    "    if subject==None:\n",
    "        subject = input(\"insert subject number: \")\n",
    "        \n",
    "    motion_types=(\"dynamic\", \"static\")\n",
    "    for motion_type in motion_types:\n",
    "        print(f\"{motion_type} Data\")\n",
    "        Inputs, Outputs = get_IO_dir(subject, motion_type=motion_type)\n",
    "        for Input, Output in zip(Inputs, Outputs):\n",
    "            Markers_Label = get_markers_labels(Input)\n",
    "            num_frames = convert_data(Input, Output)\n",
    "            process_trc(Output, Markers_Label, num_frames)"
   ]
  },
  {
   "cell_type": "code",
   "execution_count": 7,
   "metadata": {},
   "outputs": [
    {
     "name": "stdout",
     "output_type": "stream",
     "text": [
      "dynamic Data\n",
      "The print will only shows files names, not full directory\n",
      "Input files:  ['S02_test.csv', 'S02_train_01.csv', 'S02_train_02.csv', 'S02_val.csv']\n",
      "Output files:  ['S02_test.trc', 'S02_train_01.trc', 'S02_train_02.trc', 'S02_val.trc']\n",
      "static Data\n",
      "The print will only shows files names, not full directory\n",
      "Input files:  ['test_static.csv', 'train_static.csv', 'val_static.csv']\n",
      "Output files:  ['test_static.trc', 'train_static.trc', 'val_static.trc']\n"
     ]
    }
   ],
   "source": [
    "Markers_number = 39\n",
    "csv2trc(\"02\")"
   ]
  },
  {
   "cell_type": "code",
   "execution_count": null,
   "metadata": {},
   "outputs": [],
   "source": []
  }
 ],
 "metadata": {
  "interpreter": {
   "hash": "b3ba2566441a7c06988d0923437866b63cedc61552a5af99d1f4fb67d367b25f"
  },
  "kernelspec": {
   "display_name": "Python 3.8.3 64-bit ('base': conda)",
   "name": "python3"
  },
  "language_info": {
   "codemirror_mode": {
    "name": "ipython",
    "version": 3
   },
   "file_extension": ".py",
   "mimetype": "text/x-python",
   "name": "python",
   "nbconvert_exporter": "python",
   "pygments_lexer": "ipython3",
   "version": "3.8.3"
  }
 },
 "nbformat": 4,
 "nbformat_minor": 4
}
