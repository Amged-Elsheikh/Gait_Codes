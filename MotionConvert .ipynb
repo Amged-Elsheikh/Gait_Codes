{
 "cells": [
  {
   "cell_type": "code",
   "execution_count": 1,
   "source": [
    "import pandas as pd\r\n",
    "import os"
   ],
   "outputs": [],
   "metadata": {}
  },
  {
   "cell_type": "code",
   "execution_count": 2,
   "source": [
    "def get_IO_dir(subject=None, motion_type=\"dynamic\"):\r\n",
    "    \"\"\"\r\n",
    "    Parameters\r\n",
    "    ----------\r\n",
    "    subject : string, optional\r\n",
    "        Subject number you need to convert it's motion data to trc in \"XX\" string format.\r\n",
    "        If None, user have to insert subject number manually. The default is None.\r\n",
    "    motion_type : TYPE, optional\r\n",
    "        DESCRIPTION. The default is \"dynamic\".\r\n",
    "\r\n",
    "    Returns\r\n",
    "    -------\r\n",
    "    Inputs : TYPE\r\n",
    "        DESCRIPTION.\r\n",
    "    Outputs : TYPE\r\n",
    "        DESCRIPTION.\r\n",
    "    \"\"\"\r\n",
    "    \r\n",
    "    if subject==None:\r\n",
    "        subject = input(\"insert subject number: \")\r\n",
    "        \r\n",
    "    setting = pd.read_csv(f'../settings/motion_settings/S{subject}_motion.csv', header = None, usecols = [0,1]) #Load Motion Setting File\r\n",
    "    \r\n",
    "    if motion_type==\"static\":\r\n",
    "        input_path = setting.iloc[2,1] # Inputs folder\r\n",
    "        output_path = setting.iloc[3,1] # Outputs folder\r\n",
    "    elif motion_type==\"dynamic\":\r\n",
    "        input_path = setting.iloc[0,1] # Inputs folder\r\n",
    "        output_path = setting.iloc[1,1] # Outputs folder\r\n",
    "        \r\n",
    "    print(\"The print will only shows files names, not full directory\")\r\n",
    "    Inputs = os.listdir(input_path)\r\n",
    "    print(\"Input files: \", Inputs)\r\n",
    "    Outputs = list(map(lambda x:f\"{x}\".replace('csv','trc'), Inputs))\r\n",
    "    print(\"Output files: \", Outputs)\r\n",
    "    \r\n",
    "    # Get inputs and outputs full directories\r\n",
    "    Inputs = list(map(lambda file: input_path+file, Inputs))\r\n",
    "    Outputs = list(map(lambda file: output_path+file, Outputs))\r\n",
    "    return Inputs, Outputs"
   ],
   "outputs": [],
   "metadata": {}
  },
  {
   "cell_type": "markdown",
   "source": [
    "### Getting the label for converting the data"
   ],
   "metadata": {}
  },
  {
   "cell_type": "code",
   "execution_count": 3,
   "source": [
    "### Motion becomes Input\r\n",
    "def get_markers_labels(Input, Markers_Set_Name=\"Amged:\"):\r\n",
    "    \r\n",
    "    Label = pd.read_csv(Input, header=2, nrows = 0).columns.values # Getting Markers labels\r\n",
    "    Markers_Label = [] #Define a list to receive markers\r\n",
    "    Markers_Set_Name = Markers_Set_Name\r\n",
    "\r\n",
    "    for i in range(0, Markers_number):\r\n",
    "        Temp = Label[2+3*i] \r\n",
    "        Temp_1 = Temp.replace(Markers_Set_Name, \"\") #Need to remove the Marker set name\r\n",
    "        Markers_Label.append(Temp_1)\r\n",
    "#     print(\"Number of labels: \",len(Markers_Label))\r\n",
    "    return Markers_Label"
   ],
   "outputs": [],
   "metadata": {}
  },
  {
   "cell_type": "markdown",
   "source": [
    "### Convert the data and save to .trc file"
   ],
   "metadata": {}
  },
  {
   "cell_type": "code",
   "execution_count": 4,
   "source": [
    "def convert_data(Input, Output):\r\n",
    "    \"\"\"\r\n",
    "    Input & Output are pathes\r\n",
    "    \"\"\"\r\n",
    "    Markers = pd.read_csv(Input, header=5, usecols = [*range(0, 3*Markers_number+2)])\r\n",
    "    if os.path.exists(Output): # If we already have the file, it will be removed \r\n",
    "        os.remove(Output)\r\n",
    "    Markers.to_csv(Output,  sep='\\t', index=False, header = False)\r\n",
    "    num_frames = len(Markers.iloc[:,0])\r\n",
    "    return num_frames"
   ],
   "outputs": [],
   "metadata": {}
  },
  {
   "cell_type": "markdown",
   "source": [
    "### trc format need special format"
   ],
   "metadata": {}
  },
  {
   "cell_type": "code",
   "execution_count": 5,
   "source": [
    "def process_trc(Output, Markers_Label, num_frames, Markers_number=39):\r\n",
    "    New_label_Coor = '\\t'\r\n",
    "    New_label_Mar = 'Frame#\\tTime'\r\n",
    "\r\n",
    "    for i in range(0, Markers_number):\r\n",
    "        New_label_Coor = f\"{New_label_Coor}\\tX{str(i+1)}\\tY{str(i+1)}\\tZ{str(i+1)}\"\r\n",
    "    for i in range(0,Markers_number-1):\r\n",
    "        New_label_Mar = f\"{New_label_Mar}\\t{Markers_Label[i]}\\t\\t\"\r\n",
    "    New_label_Mar = f\"{New_label_Mar}\\t{Markers_Label[Markers_number-1]}\\n\"\r\n",
    "    \r\n",
    "    Contents = 'PathFileType\\t4\\t' + '(X,Y,Z)\\t' + Output + '\\n' \\\r\n",
    "            + 'DataRate\\tCameraRate\\tNumFrames\\tNumMarkers\\tUnits\\tOrigDataRate\\tOrigDataStartFrame\\tOrigNumFrames' + '\\n' \\\r\n",
    "            + f'100\\t100\\t{num_frames}\\t{Markers_number}\\tm\\t100\\t1\\t{num_frames}\\n'\r\n",
    "    \r\n",
    "    with open(Output, \"r+\") as f:\r\n",
    "        old = f.read() # read everything in the file\r\n",
    "        f.seek(0) # rewind\r\n",
    "        f.write(Contents + New_label_Mar + New_label_Coor + '\\n\\n' + old)"
   ],
   "outputs": [],
   "metadata": {}
  },
  {
   "cell_type": "code",
   "execution_count": 6,
   "source": [
    "def csv2trc(subject=None):\r\n",
    "    if subject==None:\r\n",
    "        subject = input(\"insert subject number: \")\r\n",
    "        \r\n",
    "    motion_types=(\"dynamic\", \"static\")\r\n",
    "    for motion_type in motion_types:\r\n",
    "        print(f\"{motion_type} Data\")\r\n",
    "        Inputs, Outputs = get_IO_dir(subject, motion_type=motion_type)\r\n",
    "        for Input, Output in zip(Inputs, Outputs):\r\n",
    "            Markers_Label = get_markers_labels(Input)\r\n",
    "            num_frames = convert_data(Input, Output)\r\n",
    "            process_trc(Output, Markers_Label, num_frames)"
   ],
   "outputs": [],
   "metadata": {}
  },
  {
   "cell_type": "code",
   "execution_count": 7,
   "source": [
    "Markers_number = 39\n",
    "csv2trc(\"02\")"
   ],
   "outputs": [
    {
     "output_type": "stream",
     "name": "stdout",
     "text": [
      "dynamic Data\n",
      "The print will only shows files names, not full directory\n",
      "Input files:  ['S02_test.csv', 'S02_train_01.csv', 'S02_train_02.csv', 'S02_val.csv']\n",
      "Output files:  ['S02_test.trc', 'S02_train_01.trc', 'S02_train_02.trc', 'S02_val.trc']\n",
      "static Data\n",
      "The print will only shows files names, not full directory\n",
      "Input files:  ['test_static.csv', 'train_static.csv', 'val_static.csv']\n",
      "Output files:  ['test_static.trc', 'train_static.trc', 'val_static.trc']\n"
     ]
    }
   ],
   "metadata": {}
  },
  {
   "cell_type": "code",
   "execution_count": null,
   "source": [],
   "outputs": [],
   "metadata": {}
  }
 ],
 "metadata": {
  "kernelspec": {
   "name": "python3",
   "display_name": "Python 3.8.3 64-bit ('base': conda)"
  },
  "language_info": {
   "codemirror_mode": {
    "name": "ipython",
    "version": 3
   },
   "file_extension": ".py",
   "mimetype": "text/x-python",
   "name": "python",
   "nbconvert_exporter": "python",
   "pygments_lexer": "ipython3",
   "version": "3.8.3"
  },
  "interpreter": {
   "hash": "b3ba2566441a7c06988d0923437866b63cedc61552a5af99d1f4fb67d367b25f"
  }
 },
 "nbformat": 4,
 "nbformat_minor": 4
}