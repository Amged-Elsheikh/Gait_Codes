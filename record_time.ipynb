{
 "cells": [
  {
   "cell_type": "code",
   "execution_count": 98,
   "source": [
    "import pandas as pd\r\n",
    "import numpy as np"
   ],
   "outputs": [],
   "metadata": {}
  },
  {
   "cell_type": "markdown",
   "source": [],
   "metadata": {}
  },
  {
   "cell_type": "code",
   "execution_count": 100,
   "source": [
    "subject = \"02\"\r\n",
    "settings = pd.read_csv(f\"../settings/record_periods/S{subject}_record_periods.csv\", header=None)\r\n",
    "input_files = ['train_01', 'train_02', 'val', 'test']"
   ],
   "outputs": [],
   "metadata": {}
  },
  {
   "cell_type": "code",
   "execution_count": 101,
   "source": [
    "def interval2seq(data, side):\r\n",
    "    for start, end in zip(periods[f\"{side}_start\"],periods[f\"{side}_end\"]):\r\n",
    "        data.iloc[start:end]=True"
   ],
   "outputs": [],
   "metadata": {}
  },
  {
   "cell_type": "code",
   "execution_count": 104,
   "source": [
    "left_time_sum = 0\r\n",
    "right_time_sum = 0\r\n",
    "for input_file in input_files:\r\n",
    "    # Create output file name\r\n",
    "    output_file = f\"{settings.iloc[1,1]}S{subject}_{input_file}_record_periods.csv\"\r\n",
    "    # Read the data\r\n",
    "    periods = pd.read_excel(f\"{settings.iloc[0,1]}{input_file}.xlsx\")\r\n",
    "    # Drop last row and record time length columns\r\n",
    "    periods.dropna(inplace=True)\r\n",
    "    periods.drop(columns=[\"index\", \"left_time\", \"right_time\"],inplace=True)\r\n",
    "    # convert all data into integers\r\n",
    "    periods = periods.astype(\"int16\")\r\n",
    "    # Create new boolen Dataframe\r\n",
    "    left_df = pd.DataFrame([False]*periods.iloc[-1,1], columns=[\"left_side\"])\r\n",
    "    right_df = pd.DataFrame([False]*periods.iloc[-1,3], columns=[\"right_side\"])\r\n",
    "    assert len(right_df)==len(left_df)\r\n",
    "    # map the periods intervals to sequances\r\n",
    "    interval2seq(left_df, \"left\")\r\n",
    "    interval2seq(right_df, \"right\")\r\n",
    "    # Create time column\r\n",
    "    time = pd.DataFrame([round(i/100,2) for i in range(len(left_df))], columns=[\"time\"])\r\n",
    "    # Merge all data\r\n",
    "    df = pd.concat([time,left_df,right_df], axis=1)\r\n",
    "    # save to csv\r\n",
    "    df.to_csv(output_file, index=False)\r\n",
    "    # print results\r\n",
    "    print(f\"{input_file}: left time: {np.sum(left_df)[0]/100}s \\t right time: {np.sum(right_df)[0]/100}s \\n record_time: {len(right_df)/100}s\")"
   ],
   "outputs": [
    {
     "output_type": "stream",
     "name": "stdout",
     "text": [
      "train_01: left time: 73.11s \t right time: 72.15s \n",
      " record_time: 190.42s\n",
      "train_02: left time: 73.44s \t right time: 72.44s \n",
      " record_time: 190.42s\n",
      "val: left time: 85.52s \t right time: 87.18s \n",
      " record_time: 207.93s\n",
      "test: left time: 32.05s \t right time: 32.84s \n",
      " record_time: 64.82s\n"
     ]
    }
   ],
   "metadata": {}
  },
  {
   "cell_type": "code",
   "execution_count": null,
   "source": [],
   "outputs": [],
   "metadata": {}
  }
 ],
 "metadata": {
  "kernelspec": {
   "display_name": "Python 3 (ipykernel)",
   "language": "python",
   "name": "python3"
  },
  "language_info": {
   "codemirror_mode": {
    "name": "ipython",
    "version": 3
   },
   "file_extension": ".py",
   "mimetype": "text/x-python",
   "name": "python",
   "nbconvert_exporter": "python",
   "pygments_lexer": "ipython3",
   "version": "3.8.3"
  }
 },
 "nbformat": 4,
 "nbformat_minor": 5
}