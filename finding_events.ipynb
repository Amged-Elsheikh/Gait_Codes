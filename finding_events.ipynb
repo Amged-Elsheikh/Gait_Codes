{
 "cells": [
  {
   "cell_type": "markdown",
   "metadata": {
    "id": "enIdOD7ik8Z5"
   },
   "source": [
    "### Import libraries"
   ]
  },
  {
   "cell_type": "code",
   "execution_count": 4,
   "metadata": {
    "id": "BTtBV7IJCnIk"
   },
   "outputs": [],
   "source": [
    "import shutup\n",
    "shutup.please()\n",
    "import pandas as pd\n",
    "import numpy as np\n",
    "import os\n",
    "import plotly.express as px\n",
    "import matplotlib.pyplot as plt\n",
    "import plotly.io as pio\n",
    "pio.renderers.default = \"browser\"\n",
    "\n",
    "Weights ={\"S02\":60.5}"
   ]
  },
  {
   "cell_type": "markdown",
   "metadata": {},
   "source": [
    "## Define functions To extract gait events"
   ]
  },
  {
   "cell_type": "markdown",
   "metadata": {
    "id": "eYeoNn4pk_zQ"
   },
   "source": [
    "### Load data"
   ]
  },
  {
   "cell_type": "code",
   "execution_count": 5,
   "metadata": {},
   "outputs": [],
   "source": [
    "def get_files(settings):\n",
    "    \"\"\"\n",
    "    return motion and GRF and outputs paths\n",
    "    \"\"\"\n",
    "    motion_folder = settings.iloc[0,1]\n",
    "    motion_files = os.listdir(motion_folder)\n",
    "    motion_paths = list(map(lambda x: motion_folder + x, motion_files))\n",
    "    \n",
    "    grf_folder = settings.iloc[1,1]\n",
    "    grf_files = os.listdir(grf_folder)\n",
    "    grf_paths = list(map(lambda x: grf_folder + x, grf_files))\n",
    "    grf_pairs_path = []\n",
    "    for i in range(0, len(grf_paths), 2):\n",
    "        grf_pairs_path.append((grf_paths[i],grf_paths[i+1]))\n",
    "        \n",
    "    outputs_path = settings.iloc[2,1]\n",
    "    output_names = list(map(lambda x: x.replace('.csv','_events.csv'), motion_files))\n",
    "    output_names = list(map(lambda x: outputs_path + x, output_names))\n",
    "    \n",
    "    return motion_paths, grf_pairs_path, output_names\n",
    "    \n",
    "def load_motion(motion_path):\n",
    "    \"\"\"\n",
    "    This version will use Heel marker only\n",
    "    \"\"\"\n",
    "    # Load Heels Y-axis position data\n",
    "    markers_data = pd.read_csv(motion_path, skiprows=6, usecols=[1, 15, 69])\n",
    "\n",
    "    # Rename the columns\n",
    "    markers_data.columns = [\"time\",'L.Heel', 'R.Heel'] \n",
    "\n",
    "    # Get the gradient for each column\n",
    "    markers_data = get_gradiant(markers_data, [\"L.Heel\", \"R.Heel\"])\n",
    "    return markers_data\n",
    "\n",
    "\n",
    "def get_gradiant(data, col_names):\n",
    "    if type(col_names)==list:\n",
    "        for col in col_names:\n",
    "            data[f\"{col}_grad\"] = pd.DataFrame(np.gradient(data[col]))\n",
    "    else:\n",
    "        data[f\"{col_names}_grad\"] = pd.DataFrame(np.gradient(data[col_names]))\n",
    "    return data\n",
    "\n",
    "\n",
    "def load_grf(grf_pairs):\n",
    "    \"\"\"\n",
    "    Input is a tuple (left_grf, right_grf)\n",
    "    \"\"\"\n",
    "    L_grf_path = grf_pairs[0]\n",
    "    R_grf_path = grf_pairs[1]\n",
    "    \n",
    "    L_grf_data = pd.read_csv(L_grf_path, header=31, usecols=[1,5])\n",
    "    L_grf_data.columns = ['time','Fz']\n",
    "    \n",
    "    R_grf_data = pd.read_csv(R_grf_path, header=31, usecols=[1,5])\n",
    "    R_grf_data.columns = ['time','Fz']\n",
    "    return L_grf_data, R_grf_data"
   ]
  },
  {
   "cell_type": "markdown",
   "metadata": {},
   "source": [
    "### Fining events"
   ]
  },
  {
   "cell_type": "code",
   "execution_count": 6,
   "metadata": {},
   "outputs": [],
   "source": [
    "def find_HS(data, sides, HS_threshold=0.05):\n",
    "    \"\"\"\n",
    "    the function find almost all possible candidate locations for heel strike, by applying a set of conditions:\n",
    "    1. Sign change in the gradient.\n",
    "    2. Elevation  threshold.\n",
    "    3. It's not possible to have two HS in half second.\n",
    "    \n",
    "    side is a string of either L or R or both as a tuple\n",
    "    \n",
    "    The column will be filled by the position value to be able to plot later\n",
    "    \"\"\"\n",
    "    for side in sides:\n",
    "        data[f'{side}.HS'] = np.nan\n",
    "        for i in data.index:\n",
    "            # First condition is when derivative sign changed from negative to posative and remain posative\n",
    "            if data.loc[i, f\"{side}.Heel_grad\"] < 0 and all(data.loc[i+1:i+4, f\"{side}.Heel_grad\"] > 0):\n",
    "\n",
    "                # Second condition, make sure all points below specific level\n",
    "                if data.loc[i, f\"{side}.Heel\"]<=HS_threshold:\n",
    "\n",
    "                    # Third condition it's not possible to have 2 HS in half second\n",
    "                    if data.loc[i-30:i, f\"{side}.HS\"].isnull().all():\n",
    "                        data.loc[i, f\"{side}.HS\"] = data.loc[i, f\"{side}.Heel\"]\n",
    "\n",
    "def find_TO(data, sides, TO_threshold=0.05):\n",
    "    \"\"\"\n",
    "    the function find almost all possible candidate locations for Toe Off, by applying a set of conditions:\n",
    "    1. Elevation  threshold.\n",
    "    2. derivative sign change.\n",
    "    \n",
    "    side is a string of either L or R or both as a tuple\n",
    "    \n",
    "    The column will be filled by the position value to be able to plot later\n",
    "    \"\"\"\n",
    "    for side in sides:\n",
    "        data[f\"{side}.TO\"] = np.nan\n",
    "        for i in data.index:\n",
    "            # First condition, make sure all points above specific level\n",
    "            if data.loc[i, f\"{side}.Heel\"] >= TO_threshold:\n",
    "                # Second condition is when derivative sign changed from posative to negative and remain negative\n",
    "                if data.loc[i, f\"{side}.Heel_grad\"] > 0 and all(data.loc[i+1:i+8, f\"{side}.Heel_grad\"] < 0):\n",
    "                    data.loc[i-3, f\"{side}.TO\"] = data.loc[i, f\"{side}.Heel\"]"
   ]
  },
  {
   "cell_type": "code",
   "execution_count": 7,
   "metadata": {},
   "outputs": [],
   "source": [
    "def find_event(data, sides=[\"L\",\"R\"], HS_threshold=0.05, TO_threshold=0.06):\n",
    "    \"\"\"\n",
    "    data file should contains left and right heel markers y-axis data and their gradient\n",
    "    \"\"\"\n",
    "    find_HS(data, sides=sides, HS_threshold=HS_threshold)\n",
    "    find_TO(data, sides=sides, TO_threshold=TO_threshold)\n",
    "    for side in sides:\n",
    "        data[f\"{side}.event\"] = np.nan\n",
    "        current_event=\"swing\"\n",
    "        \n",
    "        for i in data.index:\n",
    "            # Case one if no heel strike nor toe off assign swing or stance according to last event appeared (TO or HS)\n",
    "            if (np.isnan(data.loc[i, f\"{side}.HS\"])) & (np.isnan(data.loc[i, f\"{side}.TO\"])):\n",
    "                data.loc[i, f\"{side}.event\"] = current_event\n",
    "\n",
    "            # If HS event assign HS to data[\"event\"] and update current_event to stance, note that before HS their must be swing event\n",
    "            elif (not np.isnan(data.loc[i, f\"{side}.HS\"])) & (current_event==\"swing\"):\n",
    "                data.loc[i, f\"{side}.event\"] = \"HS\"\n",
    "                current_event = \"stance\"\n",
    "\n",
    "            # If TO event assign 'TO' to data[\"event\"] and update current_event to stance\n",
    "            elif not np.isnan(data.loc[i, f\"{side}.TO\"]) & (current_event==\"stance\"):\n",
    "                data.loc[i, f\"{side}.event\"] = \"TO\"\n",
    "                current_event = \"swing\"\n",
    "            # If no condition met, assign to the previous event\n",
    "            else:\n",
    "                data.loc[i, f\"{side}.event\"] = data.loc[i-1, f\"{side}.event\"]\n",
    "\n",
    "    return data"
   ]
  },
  {
   "cell_type": "markdown",
   "metadata": {},
   "source": [
    "### Finding FP intervals"
   ]
  },
  {
   "cell_type": "code",
   "execution_count": 8,
   "metadata": {},
   "outputs": [],
   "source": [
    "def on_FP(force_data, side, Subject_weight, weight_threshold=0.2):\n",
    "    \"\"\"\n",
    "    Create a column that tells eaither subject is stepping on Force Plate (True) or no (False)\n",
    "    \"\"\"\n",
    "    force_data[f'{side}_On.FP'] = False\n",
    "    force_data[f'{side}_On.FP'].loc[force_data[\"Fz\"] >= Subject_weight*weight_threshold]= True\n",
    "    return force_data\n",
    "\n",
    "\n",
    "def data_selector(markers_data, grf_data, side):\n",
    "    \"\"\"\n",
    "    Select two nearby T.O and if there are any True in On.FP column, set all values to True in the new column\n",
    "    Do the same with heels\n",
    "    \n",
    "    For setting True, you can add some saftey range for examble delay 10 frames at the start and stop 10 frames earlier\n",
    "    \"\"\"\n",
    "    \n",
    "    data = pd.merge(left=markers_data[['time',f'{side}.event']], right=grf_data[['time',f'{side}_On.FP']], on='time', how='inner')\n",
    "    # Make sure merge was done for all data points\n",
    "    assert len(markers_data) == len(data)\n",
    "    \n",
    "    ## get the time of TO and HS, multiply by 100 and convert to integer to get the index of the event\n",
    "    to_index = np.array(data['time'].loc[data[f'{side}.event']=='TO'].values*100, dtype='int32')\n",
    "    hs_index = np.array(data['time'].loc[data[f'{side}.event']=='HS'].values*100, dtype='int32')\n",
    "\n",
    "    data[f'{side}_side_select'] = data[f'{side}_On.FP']\n",
    "    \n",
    "    for i in range(len(to_index)-1):\n",
    "        start = to_index[i] # start 10 frames after TO\n",
    "        end   = to_index[i+1] # End 10 frames earlier\n",
    "        if np.sum(data.loc[start:end, f'{side}_On.FP'])>20:\n",
    "            data.loc[start:end, f'{side}_side_select'] = True\n",
    "\n",
    "    for i in range(len(hs_index)-1):\n",
    "        start = to_index[i] #start 10 frames before HS (while swinging)\n",
    "        end = to_index[i+1] # End 10 frames earlier\n",
    "        if np.sum(data.loc[start:end, f'{side}_On.FP'])>20:\n",
    "            data.loc[start:end, f'{side}_side_select'] = True\n",
    "    return data[['time', f'{side}_side_select']]"
   ]
  },
  {
   "cell_type": "markdown",
   "metadata": {},
   "source": [
    "### process the data"
   ]
  },
  {
   "cell_type": "code",
   "execution_count": 9,
   "metadata": {},
   "outputs": [],
   "source": [
    "def true_check(data, check_length=5):\n",
    "    L = check_length\n",
    "    for side in [\"L\",\"R\"]:\n",
    "        for i in data[L:-L].index:\n",
    "            if data.loc[i, f'{side}_side_select']==True:\n",
    "                if all(data.loc[i:i+L, f'{side}_side_select']) or all(data.loc[i-L:i, f'{side}_side_select']):\n",
    "                    pass\n",
    "                else:\n",
    "                    data.loc[i-L:i+L, f'{side}_side_select']=False"
   ]
  },
  {
   "cell_type": "code",
   "execution_count": 10,
   "metadata": {},
   "outputs": [],
   "source": [
    "def process_event_file(subject=None, HS_threshold=0.05, TO_threshold=0.055, weight_threshold=0.1):\n",
    "    if subject == None:\n",
    "        subject = input(\"Input subject number in XX format: \")\n",
    "    \n",
    "    settings = pd.read_csv(f'../settings/Events_settings/S{subject}_events.csv', \n",
    "                           header=None, usecols=[0,1]) # Load settings file\n",
    "    \n",
    "    Subject_weight = Weights[f\"S{subject}\"] # get subject weight\n",
    "    \n",
    "    motion_file, grf_pairs_path, output_names = get_files(settings) # get all files paths from the settings file\n",
    "    \n",
    "    for motion_path, grf_pairs, output_path in zip(motion_file, grf_pairs_path, output_names): # start working on each trial\n",
    "        # Load data\n",
    "        markers_data = load_motion(motion_path)\n",
    "        L_grf_data, R_grf_data = load_grf(grf_pairs)\n",
    "        # Make sure we are loading same trial data\n",
    "        assert len(markers_data) == len(L_grf_data) == len(R_grf_data)\n",
    "        \n",
    "        ## Use Markers data to find events\n",
    "        markers_data = find_event(markers_data, sides=[\"L\",\"R\"],\n",
    "                                  HS_threshold=HS_threshold, TO_threshold=TO_threshold)\n",
    "        \n",
    "        ## Use force data and subject weight to find if subject on Force plate or no\n",
    "        L_grf_data = on_FP(L_grf_data, 'L', Subject_weight=Subject_weight, \n",
    "                           weight_threshold=weight_threshold)\n",
    "        \n",
    "        R_grf_data = on_FP(R_grf_data, 'R', Subject_weight=Subject_weight, \n",
    "                           weight_threshold=weight_threshold)\n",
    "        \n",
    "        # Select which data to be selected for each side\n",
    "        L_data = data_selector(markers_data, L_grf_data, side=\"L\")\n",
    "        R_data = data_selector(markers_data, R_grf_data, side=\"R\")\n",
    "\n",
    "        data = pd.merge(left=L_data, right=R_data, on='time', how='inner')\n",
    "        assert len(R_data)==len(data)\n",
    "        data = true_check(data)\n",
    "        data.to_csv(output_path, index=False)"
   ]
  },
  {
   "cell_type": "code",
   "execution_count": 11,
   "metadata": {},
   "outputs": [
    {
     "name": "stdout",
     "output_type": "stream",
     "text": [
      "Wall time: 1min 17s\n"
     ]
    }
   ],
   "source": [
    "%%time\n",
    "process_event_file('02')"
   ]
  },
  {
   "cell_type": "markdown",
   "metadata": {},
   "source": [
    "### Plots"
   ]
  },
  {
   "cell_type": "code",
   "execution_count": null,
   "metadata": {
    "colab": {
     "base_uri": "https://localhost:8080/",
     "height": 542
    },
    "id": "Mf4QPv67yo5M",
    "outputId": "7920089d-6e8b-4217-8dea-8b2cbd8766fc"
   },
   "outputs": [],
   "source": [
    "# import plotly.graph_objects as go\n",
    "\n",
    "# fig1 = px.line(data[:],x='time', y=\"R.Heel\")\n",
    "# fig2 = go.Figure(data=go.Scatter(x=data[\"time\"], y=data[\"R.HS\"], mode='markers', marker_color='rgba(255, 0, 0, 1)', text=\"Heel Strike\", name=\"H.S\"))\n",
    "# fig3 = go.Figure(data=go.Scatter(x=data[\"time\"], y=data[\"R.TO\"], mode='markers', marker_color='rgba(0, 255, 0, 1)', text=\"Toe Off\", name=\"T.O\"))\n",
    "# ## Uncomment line for the plot\n",
    "# # go.Figure(data=(fig1.data + fig2.data + fig3.data))"
   ]
  },
  {
   "cell_type": "code",
   "execution_count": null,
   "metadata": {
    "colab": {
     "base_uri": "https://localhost:8080/",
     "height": 542
    },
    "id": "FkAIygnhOjbF",
    "outputId": "a9b82d3b-b17c-46ae-e0de-4bc0addbf2d1"
   },
   "outputs": [],
   "source": [
    "# Left_side_plot = px.scatter(data[:],x='time', y=\"L.Heel\", color=\"L.event\")\n",
    "# Left_side_plot"
   ]
  },
  {
   "cell_type": "code",
   "execution_count": null,
   "metadata": {},
   "outputs": [],
   "source": [
    "# Right_side_plot = px.scatter(data, x='time', y=\"R.Heel\", color=\"R.event\")\n",
    "# Right_side_plot"
   ]
  }
 ],
 "metadata": {
  "colab": {
   "name": "HS_TO_analysis.ipynb",
   "provenance": []
  },
  "kernelspec": {
   "display_name": "Python 3 (ipykernel)",
   "language": "python",
   "name": "python3"
  },
  "language_info": {
   "codemirror_mode": {
    "name": "ipython",
    "version": 3
   },
   "file_extension": ".py",
   "mimetype": "text/x-python",
   "name": "python",
   "nbconvert_exporter": "python",
   "pygments_lexer": "ipython3",
   "version": "3.8.3"
  }
 },
 "nbformat": 4,
 "nbformat_minor": 4
}
