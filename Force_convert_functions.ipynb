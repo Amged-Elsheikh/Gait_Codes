{
 "cells": [
  {
   "cell_type": "code",
   "execution_count": 1,
   "metadata": {},
   "outputs": [],
   "source": [
    "%matplotlib inline\n",
    "import shutup\n",
    "shutup.please()\n",
    "import numpy as np\n",
    "import pandas as pd\n",
    "import matplotlib.pyplot as plt\n",
    "from scipy.signal import butter, filtfilt\n",
    "import re\n",
    "import os\n",
    "import plotly.express as px\n",
    "import plotly.io as pio\n",
    "pio.renderers.default = \"browser\"\n",
    "\n",
    "subject = \"02\"\n",
    "setting = pd.read_csv(f'../settings/force_settings/S{subject}_force_settings.csv', header = None)"
   ]
  },
  {
   "cell_type": "code",
   "execution_count": 2,
   "metadata": {},
   "outputs": [],
   "source": [
    "Weights = {\"S02\":60.5}\n",
    "w = Weights[f'S{subject}']"
   ]
  },
  {
   "cell_type": "markdown",
   "metadata": {},
   "source": [
    "<body>\n",
    "    <table align=\"left\">\n",
    "        <tr>\n",
    "            <th>Marker<\\th>\n",
    "            <th>X-axis<\\th>\n",
    "            <th>Z-axis<\\th>\n",
    "        <\\tr>\n",
    "        <tr>\n",
    "            <td> L.Heel<\\td>\n",
    "            <td> 14<\\td>\n",
    "            <td> 16<\\td>\n",
    "        <\\tr>\n",
    "        <tr>\n",
    "            <td>L.Toe Tip <\\td>\n",
    "            <td> 53<\\td>\n",
    "            <td> 55<\\td>\n",
    "        <\\tr>\n",
    "        <tr>\n",
    "            <td>L.Toe Lat <\\td>\n",
    "            <td> 47<\\td>\n",
    "            <td> 49<\\td>\n",
    "        <\\tr>\n",
    "        <tr>\n",
    "            <td>L.Toe Med <\\td>\n",
    "            <td> 50<\\td>\n",
    "            <td> 52<\\td>\n",
    "        <\\tr>\n",
    "        <tr>\n",
    "            <td> R.Heel<\\td>\n",
    "            <td> 68<\\td>\n",
    "            <td> 70<\\td>\n",
    "        <\\tr>\n",
    "        <tr>\n",
    "            <td>R.Toe Tip <\\td>\n",
    "            <td> 107<\\td>\n",
    "            <td> 109<\\td>\n",
    "        <\\tr>\n",
    "        <tr>\n",
    "            <td>R.Toe Lat <\\td>\n",
    "            <td> 101<\\td>\n",
    "            <td> 103<\\td>\n",
    "        <\\tr>\n",
    "        <tr>\n",
    "            <td>R.Toe Med <\\td>\n",
    "            <td> 104<\\td>\n",
    "            <td> 106<\\td>\n",
    "        <\\tr>\n",
    "    <\\table>\n",
    "<\\body>"
   ]
  },
  {
   "cell_type": "markdown",
   "metadata": {
    "tags": []
   },
   "source": [
    "## Functions"
   ]
  },
  {
   "cell_type": "markdown",
   "metadata": {},
   "source": [
    "### System sometimes failed to send data (columns of zeros). Next function to solve this issue"
   ]
  },
  {
   "cell_type": "code",
   "execution_count": 3,
   "metadata": {},
   "outputs": [],
   "source": [
    "def remove_system_gap(data_L, data_R):\n",
    "    columns = data_L.columns[3:-1]\n",
    "    data_L.loc[data_L[' Fz']==0, columns] = np.nan\n",
    "    data_R.loc[data_R[' Fz']==0, columns] = np.nan\n",
    "    data_L = data_L.interpolate(method=\"linear\")\n",
    "    data_R = data_R.interpolate(method=\"linear\")\n",
    "    data_L = data_L.fillna(method=\"bfill\")\n",
    "    data_R = data_R.fillna(method=\"bfill\")\n",
    "    return data_L, data_R"
   ]
  },
  {
   "cell_type": "markdown",
   "metadata": {},
   "source": [
    "#### Rotate Force Plates coordinate system and move CoP to match opti-track coordinate system"
   ]
  },
  {
   "cell_type": "markdown",
   "metadata": {},
   "source": [
    "Rotation: $R_{X}=-90^{\\circ}$\n",
    "\n",
    "$\\begin{bmatrix} X\\\\Y\\\\Z\\end{bmatrix}$ = $\\begin{bmatrix} X\\\\Z\\\\Y\\end{bmatrix}$"
   ]
  },
  {
   "cell_type": "code",
   "execution_count": 4,
   "metadata": {},
   "outputs": [],
   "source": [
    "def system_match(data_L, data_R):\n",
    "    \n",
    "    col_names = {\" Fx\":\"Fx\", \" Fy\":\"Fz\", \" Fz\":\"Fy\",\n",
    "                 \" Mx\":\"Mx\", \" My\":\"Mz\", \" Mz\":\"My\",\n",
    "                 \" Cx\":\"Cx\", \" Cy\":\"Cz\", \" Cz\":\"Cy\",\n",
    "                 \" MocapTime\": \"time\"}\n",
    "    \n",
    "    ## System stop working someat some frames creating a gap, fill the gaps using interpolatoion\n",
    "    data_L, data_R = remove_system_gap(data_L, data_R)\n",
    "\n",
    "    ## To apply rotation, change column names and change the sign for the new z-axis data.\n",
    "    data_L.rename(columns=col_names, inplace=True)\n",
    "    data_R.rename(columns=col_names, inplace=True)\n",
    "\n",
    "    # Match opti-track and force Plates origins\n",
    "    data_L[\"Cz\"] = data_L[\"Cz\"].apply(lambda x: x+0.25)\n",
    "    data_R[\"Cz\"] = data_R[\"Cz\"].apply(lambda x: x+0.25)\n",
    "    \n",
    "    data_L[\"Cx\"] = data_L[\"Cx\"].apply(lambda x: x+0.25)\n",
    "    data_R[\"Cx\"] = data_R[\"Cx\"].apply(lambda x: x+0.75)\n",
    "\n",
    "    # Complete the rotation by getting -z\n",
    "#     data_L[[\"Fz\",\"Fx\"]] = data_L[[\"Fz\",\"Fx\"]].apply(lambda x: -x)\n",
    "#     data_R[[\"Fz\",\"Fx\"]] = data_R[[\"Fz\",\"Fx\"]].apply(lambda x: -x)\n",
    "    \n",
    "    return data_L, data_R"
   ]
  },
  {
   "cell_type": "markdown",
   "metadata": {},
   "source": [
    "#### Remove offset"
   ]
  },
  {
   "cell_type": "code",
   "execution_count": 5,
   "metadata": {},
   "outputs": [],
   "source": [
    "def remove_offset(data_L, data_R, remove=True):\n",
    "    if remove:\n",
    "        columns = data_L.columns[3:-3] # Choose Forces and Moments\n",
    "        for col in columns:\n",
    "            data_L[col] = data_L[col] - data_L.loc[5:60, col].mean()\n",
    "            data_R[col] = data_R[col] - data_R.loc[5:60, col].mean()\n",
    "    return data_L, data_R"
   ]
  },
  {
   "cell_type": "markdown",
   "metadata": {},
   "source": [
    "#### Apply filter"
   ]
  },
  {
   "cell_type": "code",
   "execution_count": 22,
   "metadata": {},
   "outputs": [],
   "source": [
    "f = 6 # Filter frequency\n",
    "fs = 100 # Hz\n",
    "low_pass = f/(fs/2)\n",
    "b2, a2 = butter(N=2, Wn=low_pass, btype='lowpass')\n",
    "\n",
    "def apply_filter(data_L, data_R):\n",
    "    columns = [\"Fx\", \"Fy\", \"Fz\",\n",
    "               \"Mx\",\"My\",\"Mz\",\n",
    "               \"Cx\",\"Cz\"]\n",
    "    for col in columns:\n",
    "#         if col==\"Fy\":\n",
    "#             data_L[col] = filtfilt(b2, a2, abs(data_L[col]))\n",
    "#             data_R[col] = filtfilt(b2, a2, abs(data_R[col]))\n",
    "#         else:\n",
    "        data_L.loc[:,col] = filtfilt(b2, a2, data_L[col])\n",
    "        data_R.loc[:,col] = filtfilt(b2, a2, data_R[col])\n",
    "    # Make any force less than a 0.1*w to zero\n",
    "    data_L.loc[data_L['Fy']<0.1*w, ['Fx', 'Fy', 'Fz', 'Mx', 'My', 'Mz']]=0\n",
    "    data_R.loc[data_R['Fy']<0.1*w, ['Fx', 'Fy', 'Fz', 'Mx', 'My', 'Mz']]=0\n",
    "    return data_L, data_R"
   ]
  },
  {
   "cell_type": "markdown",
   "metadata": {},
   "source": [
    "### There is a delay in system (approxmately 10 frames)"
   ]
  },
  {
   "cell_type": "code",
   "execution_count": 23,
   "metadata": {},
   "outputs": [],
   "source": [
    "def shift_data(data_L, data_R, shift_value=10):\n",
    "    shift_columns = data_R.columns[3:]\n",
    "    data_L[shift_columns] = data_L[shift_columns].shift(shift_value, fill_value=0)\n",
    "    data_R[shift_columns] = data_R[shift_columns].shift(shift_value, fill_value=0)\n",
    "    return data_L, data_R"
   ]
  },
  {
   "cell_type": "markdown",
   "metadata": {
    "tags": []
   },
   "source": [
    "### Rename columns for OpenSim"
   ]
  },
  {
   "cell_type": "code",
   "execution_count": 24,
   "metadata": {},
   "outputs": [],
   "source": [
    "def get_output_name(pair):\n",
    "    return re.sub(\"_forceplate_[0-9].csv\",\"_grf.sto\",pair)"
   ]
  },
  {
   "cell_type": "code",
   "execution_count": 25,
   "metadata": {
    "tags": []
   },
   "outputs": [],
   "source": [
    "## Set Manually for each subject\n",
    "def experement_duration(output_name):\n",
    "    if \"train_01\" in output_name:\n",
    "        start_time = 500\n",
    "        end_time =18800\n",
    "        return start_time, end_time\n",
    "    elif \"train_02\" in output_name:\n",
    "        start_time = 400\n",
    "        end_time = 18700\n",
    "        return start_time, end_time\n",
    "    elif \"val\" in output_name:\n",
    "        start_time = 630\n",
    "        end_time = 20230\n",
    "        return start_time, end_time\n",
    "    elif \"test\" in output_name:\n",
    "        start_time = 300\n",
    "        end_time = 6000\n",
    "        return start_time, end_time"
   ]
  },
  {
   "cell_type": "code",
   "execution_count": 26,
   "metadata": {
    "tags": []
   },
   "outputs": [],
   "source": [
    "def col_rearrange(data):\n",
    "    return data[[\"time\",\"Fx\",\"Fy\",\"Fz\", \"Mx\",\"My\",\"Mz\", \"Cx\",\"Cy\",\"Cz\"]]"
   ]
  },
  {
   "cell_type": "markdown",
   "metadata": {},
   "source": [
    "### COP Filter"
   ]
  },
  {
   "cell_type": "code",
   "execution_count": 27,
   "metadata": {},
   "outputs": [],
   "source": [
    "def filter_COP(data, side=None):\n",
    "    \"\"\"\n",
    "    side: L or R to decide the forceplate limits\n",
    "    \"\"\"\n",
    "    FP_z_lim = (0, 0.5)\n",
    "    if side=='L':\n",
    "        FP_x_lim = (0, 0.5)\n",
    "    elif side==\"R\":\n",
    "        FP_x_lim = (0.5, 1)\n",
    "    else:\n",
    "        raise ('Side should be \"L\" or \"R\"')\n",
    "        \n",
    "    x_mid = (FP_x_lim[0]+FP_x_lim[1])/2\n",
    "    z_mid = (FP_z_lim[0]+FP_z_lim[1])/2\n",
    "    for i in data.index:\n",
    "        # Check if foot in force plate, move COP toward foot if it's not\n",
    "        if foot_in_FP(data, i, FP_x_lim):\n",
    "            data.loc[i, 'Cx'] = put_cop_in_foot(current=data.loc[i, 'Cx'],\n",
    "                                                p1=data.loc[i,'X1'],\n",
    "                                                p2=data.loc[i,'X2'])\n",
    "            \n",
    "            data.loc[i, 'Cz'] = put_cop_in_foot(current=data.loc[i, 'Cz'],\n",
    "                                                p1=data.loc[i,'Z1'],\n",
    "                                                p2=data.loc[i,'Z2'])\n",
    "        \n",
    "        # Remaining is quite meanless since it won't affect calculations.\n",
    "        # but it will affect COP visualizing\n",
    "        # Check if COP is out side FP, of course in this case subject not in FP\n",
    "        # if Cop outside in one direction, make it equal to the point behind.\n",
    "        else:\n",
    "            if not FP_x_lim[0]<=data.loc[i,\"Cx\"]<=FP_x_lim[1]:\n",
    "                data.loc[i,\"Cx\"] = x_mid\n",
    "            \n",
    "            if not FP_z_lim[0]<=data.loc[i,\"Cz\"]<=FP_z_lim[1]:\n",
    "                data.loc[i,\"Cz\"] = z_mid\n",
    "            \n",
    "    return data.drop(columns=cop_limits_columns_remove)\n",
    "\n",
    "def foot_in_FP(data,i, FP_x_lim):\n",
    "    FP_z_lim = (0, 0.5)\n",
    "    if FP_x_lim[0]<=data.loc[i,'X1']<=FP_x_lim[1]:\n",
    "        if FP_x_lim[0]<=data.loc[i,'X2']<=FP_x_lim[1]:\n",
    "            if FP_z_lim[0]<=data.loc[i,'Z1']<=FP_z_lim[1]:\n",
    "                if FP_z_lim[0]<=data.loc[i,'Z2']<=FP_z_lim[1]:\n",
    "                    return True\n",
    "    return False\n",
    "            \n",
    "def put_cop_in_foot(current, p1, p2, axis='X'):\n",
    "    \"\"\"\n",
    "    current: the current COP to be checked (data.loc[i,Cz or Cx])\n",
    "    p1: first position (data.loc[i,X1 or Z1])\n",
    "    p2: second point (data.loc[i,X2 or Z2])\n",
    "    \"\"\"\n",
    "    minimum = np.minimum(p1, p2)\n",
    "    maximum = np.maximum(p1,p2)\n",
    "    if not minimum <=current<= maximum: # if Cx not in the foot\n",
    "        # Move to the closest edge\n",
    "        if np.abs(current - minimum) < np.abs(current - maximum):    \n",
    "            return minimum\n",
    "        else:\n",
    "            return maximum\n",
    "    else:\n",
    "        return current"
   ]
  },
  {
   "cell_type": "markdown",
   "metadata": {},
   "source": [
    "### Process GRF"
   ]
  },
  {
   "cell_type": "code",
   "execution_count": 28,
   "metadata": {},
   "outputs": [],
   "source": [
    "def GRF_data(data_L, data_R):\n",
    "    data_L = col_rearrange(data_L)\n",
    "    data_R = col_rearrange(data_R)\n",
    "    L_columns_names_mapper = {\"Fx\": \"1_ground_force_vx\", \"Fy\": \"1_ground_force_vy\", \"Fz\": \"1_ground_force_vz\",\n",
    "                           \"Cx\": \"1_ground_force_px\", \"Cy\": \"1_ground_force_py\", \"Cz\": \"1_ground_force_pz\",\n",
    "                           \"Mx\": \"1_ground_torque_x\", \"My\": \"1_ground_torque_y\", \"Mz\": \"1_ground_torque_z\" }\n",
    "    \n",
    "    R_columns_names_mapper = {\"Fx\": \"ground_force_vx\", \"Fy\": \"ground_force_vy\", \"Fz\": \"ground_force_vz\",\n",
    "                           \"Cx\": \"ground_force_px\", \"Cy\": \"ground_force_py\", \"Cz\": \"ground_force_pz\",\n",
    "                           \"Mx\": \"ground_torque_x\", \"My\": \"ground_torque_y\", \"Mz\": \"ground_torque_z\" }\n",
    "    \n",
    "    data_L.rename(columns= L_columns_names_mapper, inplace=True)\n",
    "    data_R.rename(columns= R_columns_names_mapper, inplace=True)\n",
    "\n",
    "    GRF = pd.merge(left=data_L, right=data_R, how=\"outer\", on=\"time\")\n",
    "    return GRF"
   ]
  },
  {
   "cell_type": "code",
   "execution_count": 29,
   "metadata": {},
   "outputs": [],
   "source": [
    "def save_force_data(force_data, output_path, output_name):\n",
    "    output_file = output_path + output_name\n",
    "    if os.path.exists(output_file):\n",
    "        os.remove(output_file)\n",
    "    force_data.to_csv(output_file,  sep='\\t', index=False)\n",
    "    nRows = len(force_data)#end_time - start_time + 1 \n",
    "    nColumns = 19 \n",
    "\n",
    "    with open(output_file, \"r+\") as f:\n",
    "        old = f.read() # read everything in the file\n",
    "        f.seek(0) # rewind\n",
    "        f.write(output_name+'\\n' +\\\n",
    "                'version=1\\n' + \\\n",
    "                f'nRows={nRows}\\n' + \\\n",
    "                f'nColumns={nColumns}\\n' + \\\n",
    "                'inDegrees=yes\\n' + \\\n",
    "                'endheader\\n' + \\\n",
    "                old) #"
   ]
  },
  {
   "cell_type": "markdown",
   "metadata": {},
   "source": [
    "## Run next cell to convert force from csv to sto"
   ]
  },
  {
   "cell_type": "code",
   "execution_count": 30,
   "metadata": {
    "tags": []
   },
   "outputs": [
    {
     "name": "stderr",
     "output_type": "stream",
     "text": [
      "C:\\ProgramData\\Anaconda3\\lib\\site-packages\\pandas\\core\\frame.py:4441: SettingWithCopyWarning:\n",
      "\n",
      "\n",
      "A value is trying to be set on a copy of a slice from a DataFrame\n",
      "\n",
      "See the caveats in the documentation: https://pandas.pydata.org/pandas-docs/stable/user_guide/indexing.html#returning-a-view-versus-a-copy\n",
      "\n",
      "C:\\ProgramData\\Anaconda3\\lib\\site-packages\\pandas\\core\\frame.py:4441: SettingWithCopyWarning:\n",
      "\n",
      "\n",
      "A value is trying to be set on a copy of a slice from a DataFrame\n",
      "\n",
      "See the caveats in the documentation: https://pandas.pydata.org/pandas-docs/stable/user_guide/indexing.html#returning-a-view-versus-a-copy\n",
      "\n",
      "C:\\ProgramData\\Anaconda3\\lib\\site-packages\\pandas\\core\\frame.py:4441: SettingWithCopyWarning:\n",
      "\n",
      "\n",
      "A value is trying to be set on a copy of a slice from a DataFrame\n",
      "\n",
      "See the caveats in the documentation: https://pandas.pydata.org/pandas-docs/stable/user_guide/indexing.html#returning-a-view-versus-a-copy\n",
      "\n",
      "C:\\ProgramData\\Anaconda3\\lib\\site-packages\\pandas\\core\\frame.py:4441: SettingWithCopyWarning:\n",
      "\n",
      "\n",
      "A value is trying to be set on a copy of a slice from a DataFrame\n",
      "\n",
      "See the caveats in the documentation: https://pandas.pydata.org/pandas-docs/stable/user_guide/indexing.html#returning-a-view-versus-a-copy\n",
      "\n"
     ]
    }
   ],
   "source": [
    "input_path = setting.iloc[0,1]\n",
    "output_path = setting.iloc[1,1]\n",
    "files = os.listdir(input_path)\n",
    "pairs =[]\n",
    "read_data = lambda path: pd.read_csv(path, header=31)\n",
    "markers_settings = pd.read_csv(f'../settings/motion_settings/S{subject}_motion.csv', header = None, usecols = [0,1])\n",
    "markers_path = markers_settings.iloc[0,1]\n",
    "cop_limits_columns = ['time', 'X1','Z1',\"Z2\",\"X2\"]\n",
    "cop_limits_columns_remove = ['X1','Z1',\"Z2\",\"X2\"]\n",
    "\n",
    "## Get files names\n",
    "for current in os.listdir(input_path):\n",
    "    files.remove(current)\n",
    "    if len(files)!=-0:\n",
    "        for j in files:\n",
    "            if current[:16]==j[:16]: # ensure we pick exact experement trial file\n",
    "                pairs.append((current,j)) # Make left and right pairs in a tuple\n",
    "\n",
    "## Process each trial\n",
    "for pair in pairs:\n",
    "    output_name = get_output_name(pair[0])\n",
    "    \n",
    "    # Load Left(1) and Right(2) force plates data\n",
    "    for side in pair:\n",
    "        markers_file = markers_path + re.sub(\"_forceplate_[1-2]\",\"\", side)\n",
    "        if \"2.csv\" in side:\n",
    "            data_R = read_data(input_path+side)\n",
    "        elif \"1.csv\" in side:\n",
    "            data_L = read_data(input_path+side)\n",
    "            \n",
    "    # Match devices coordinate system\n",
    "    data_L, data_R = system_match(data_L, data_R)\n",
    "    \n",
    "    \n",
    "    ## Remove the offset from the data\n",
    "    data_L, data_R = remove_offset(data_L, data_R)\n",
    "    \n",
    "    ## Remove the delay\n",
    "    data_L, data_R = shift_data(data_L, data_R, shift_value=0)\n",
    "    \n",
    "    ## Add COP limits from Opti-track\n",
    "    # Right side\n",
    "    R_markers = pd.read_csv(markers_file, header=6,\n",
    "                            usecols=[1, 68,107,103,106])\n",
    "    R_markers.columns = cop_limits_columns\n",
    "    \n",
    "    data_R = pd.merge(left=data_R, right=R_markers, on='time', how='inner')\n",
    "    # Left side\n",
    "    L_markers = pd.read_csv(markers_file, header=6,\n",
    "                            usecols=[1, 14,53,49,52])\n",
    "    L_markers.columns = cop_limits_columns\n",
    "    data_L = pd.merge(left=data_L, right=L_markers, on='time', how='inner')\n",
    "    \n",
    "    \n",
    "#     # Rename columns and merge Left and right side\n",
    "    ## Filter the data\n",
    "    data_L = filter_COP(data_L,\"L\")\n",
    "#     data_R = filter_COP(data_R,\"R\")\n",
    "    data_L, data_R = apply_filter(data_L, data_R)\n",
    "    force_data = GRF_data(data_L, data_R)\n",
    "    \n",
    "    # Save force data\n",
    "    save_force_data(force_data, output_path, output_name)\n",
    "    \n",
    "# events = pd.read_csv('../S02_val_events.csv')\n",
    "# data_L = pd.merge(data_L, events[[\"Time\", \"L.event\"]], on=\"Time\")\n",
    "# px.scatter(data_L, x=\"Time\", y=\"Fy\", color=\"L.event\")"
   ]
  }
 ],
 "metadata": {
  "kernelspec": {
   "display_name": "Python 3",
   "language": "python",
   "name": "python3"
  },
  "language_info": {
   "codemirror_mode": {
    "name": "ipython",
    "version": 3
   },
   "file_extension": ".py",
   "mimetype": "text/x-python",
   "name": "python",
   "nbconvert_exporter": "python",
   "pygments_lexer": "ipython3",
   "version": "3.8.3"
  }
 },
 "nbformat": 4,
 "nbformat_minor": 4
}
